{
  "cells": [
    {
      "cell_type": "markdown",
      "metadata": {
        "id": "1y3mR1nVT1zP"
      },
      "source": [
        "# 📜 Project: Job Description Analyzer – Extracting Required Skills from Job Postings\n"
      ]
    },
    {
      "cell_type": "markdown",
      "metadata": {
        "id": "JSI2d6TlT67t"
      },
      "source": [
        "## 📌 Objective\n",
        "Use spaCy’s Named Entity Recognition (NER) and NLTK preprocessing to extract and categorize required skills from job descriptions. The goal is to identify trends in job requirements and analyze the most in-demand skills across industries."
      ]
    },
    {
      "cell_type": "markdown",
      "metadata": {
        "id": "bEMWB0ErT-VI"
      },
      "source": [
        "## 🛠️ Project Steps & Instructions\n"
      ]
    },
    {
      "cell_type": "code",
      "execution_count": null,
      "metadata": {
        "colab": {
          "base_uri": "https://localhost:8080/"
        },
        "id": "i3ydN6dCU0R4",
        "outputId": "60940a93-425e-4726-d7ab-6c2daf745666"
      },
      "outputs": [
        {
          "name": "stdout",
          "output_type": "stream",
          "text": [
            "--2025-03-12 11:27:01--  https://raw.githubusercontent.com/binoydutt/Resume-Job-Description-Matching/refs/heads/master/data.csv\n",
            "Resolving raw.githubusercontent.com (raw.githubusercontent.com)... 185.199.108.133, 185.199.109.133, 185.199.110.133, ...\n",
            "Connecting to raw.githubusercontent.com (raw.githubusercontent.com)|185.199.108.133|:443... connected.\n",
            "HTTP request sent, awaiting response... 200 OK\n",
            "Length: 646072 (631K) [text/plain]\n",
            "Saving to: ‘data.csv’\n",
            "\n",
            "data.csv            100%[===================>] 630.93K  --.-KB/s    in 0.06s   \n",
            "\n",
            "2025-03-12 11:27:01 (10.5 MB/s) - ‘data.csv’ saved [646072/646072]\n",
            "\n"
          ]
        }
      ],
      "source": [
        "#📥 Download the Dataset\n",
        "!wget https://raw.githubusercontent.com/binoydutt/Resume-Job-Description-Matching/refs/heads/master/data.csv"
      ]
    },
    {
      "cell_type": "markdown",
      "metadata": {
        "id": "OSp39kGdUDZp"
      },
      "source": [
        "### Step 1: Load the Dataset\n",
        "#### 📌 Dataset: A provided CSV file containing job descriptions from different industries (IT, Healthcare, Finance, Marketing, etc.).\n",
        "\n",
        "1. Download the dataset (link below).\n",
        "2. Load it into Python using Pandas.\n",
        "3. View the first few rows to understand its structure."
      ]
    },
    {
      "cell_type": "code",
      "execution_count": null,
      "metadata": {
        "colab": {
          "base_uri": "https://localhost:8080/"
        },
        "id": "Ujju9awITxuH",
        "outputId": "4f5cdab2-1ca4-4ca1-f858-cdacd96379ca"
      },
      "outputs": [
        {
          "name": "stdout",
          "output_type": "stream",
          "text": [
            "<class 'pandas.core.frame.DataFrame'>\n",
            "RangeIndex: 157 entries, 0 to 156\n",
            "Data columns (total 10 columns):\n",
            " #   Column           Non-Null Count  Dtype \n",
            "---  ------           --------------  ----- \n",
            " 0   Unnamed: 0       157 non-null    int64 \n",
            " 1   company          157 non-null    object\n",
            " 2   position         157 non-null    object\n",
            " 3   url              157 non-null    object\n",
            " 4   location         157 non-null    object\n",
            " 5   headquaters      157 non-null    object\n",
            " 6   employees        154 non-null    object\n",
            " 7   founded          154 non-null    object\n",
            " 8   industry         154 non-null    object\n",
            " 9   Job Description  157 non-null    object\n",
            "dtypes: int64(1), object(9)\n",
            "memory usage: 12.4+ KB\n"
          ]
        }
      ],
      "source": [
        "# your code here\n",
        "import pandas as pd\n",
        "data=pd.read_csv('data.csv', encoding='utf-8')\n",
        "data.head()\n",
        "data.info()"
      ]
    },
    {
      "cell_type": "markdown",
      "metadata": {
        "id": "jP9XyZzeULkK"
      },
      "source": [
        "### Step 2: Preprocessing the Job Descriptions\n",
        "#### 📌 Goal: Clean the text by removing stopwords, punctuation, and unnecessary characters.\n",
        "\n",
        "1. Use NLTK to tokenize the descriptions.\n",
        "2. Remove stopwords and special characters.\n",
        "3. Convert text to lowercase for consistency."
      ]
    },
    {
      "cell_type": "code",
      "execution_count": null,
      "metadata": {
        "colab": {
          "base_uri": "https://localhost:8080/"
        },
        "id": "IgUGbR5nUKJ4",
        "outputId": "b6ff35b0-9da3-4f3c-831d-593b52d03b42"
      },
      "outputs": [
        {
          "name": "stderr",
          "output_type": "stream",
          "text": [
            "[nltk_data] Downloading package stopwords to /root/nltk_data...\n",
            "[nltk_data]   Unzipping corpora/stopwords.zip.\n",
            "[nltk_data] Downloading package punkt to /root/nltk_data...\n",
            "[nltk_data]   Unzipping tokenizers/punkt.zip.\n",
            "[nltk_data] Downloading package punkt_tab to /root/nltk_data...\n",
            "[nltk_data]   Unzipping tokenizers/punkt_tab.zip.\n"
          ]
        },
        {
          "data": {
            "text/plain": [
              "True"
            ]
          },
          "execution_count": 4,
          "metadata": {},
          "output_type": "execute_result"
        }
      ],
      "source": [
        "# your code here\n",
        "import nltk\n",
        "from nltk.corpus import stopwords\n",
        "from nltk.tokenize import word_tokenize\n",
        "from nltk.probability import FreqDist\n",
        "import spacy\n",
        "nltk.download('stopwords')\n",
        "nltk.download('punkt')\n",
        "nltk.download('punkt_tab')\n",
        "\n"
      ]
    },
    {
      "cell_type": "code",
      "execution_count": null,
      "metadata": {
        "id": "s5uNnvpO4Rzs"
      },
      "outputs": [],
      "source": [
        "# Identify text columns\n",
        "text_columns=data.select_dtypes(include=['object']).columns\n",
        "stop_words = set(stopwords.words('english'))\n",
        "def preprocess_text(text):\n",
        "  if pd.isna(text):\n",
        "    return ''\n",
        "  tokens=word_tokenize(str(text))\n",
        "  tokens=[word.lower() for word in tokens if word.isalnum() and word.lower() not in stop_words]\n",
        "  return ' '.join(tokens)\n",
        "for col in text_columns:\n",
        "  data[f'{col}_tokens']=data[col].apply(preprocess_text)\n"
      ]
    },
    {
      "cell_type": "code",
      "execution_count": null,
      "metadata": {
        "colab": {
          "base_uri": "https://localhost:8080/"
        },
        "id": "ps_cjTzkFi2Q",
        "outputId": "922c1d83-10de-4088-ced6-3122c85d4c5c"
      },
      "outputs": [
        {
          "name": "stdout",
          "output_type": "stream",
          "text": [
            "Index(['Unnamed: 0', 'company', 'position', 'url', 'location', 'headquaters',\n",
            "       'employees', 'founded', 'industry', 'Job Description', 'company_tokens',\n",
            "       'position_tokens', 'url_tokens', 'location_tokens',\n",
            "       'headquaters_tokens', 'employees_tokens', 'founded_tokens',\n",
            "       'industry_tokens', 'Job Description_tokens'],\n",
            "      dtype='object')\n"
          ]
        }
      ],
      "source": [
        "columns = data.columns\n",
        "print(columns)"
      ]
    },
    {
      "cell_type": "code",
      "execution_count": null,
      "metadata": {
        "colab": {
          "base_uri": "https://localhost:8080/"
        },
        "id": "p4y8qGnvMPd7",
        "outputId": "97a769b1-c36f-4cb7-c870-1b89dba89cf7"
      },
      "outputs": [
        {
          "name": "stdout",
          "output_type": "stream",
          "text": [
            "0     Location: Plano, TX or Oklahoma City, OK Dura...\n",
            "1     The Digital Marketing Manager is the front li...\n",
            "2     Summary of Responsibilities:The Manager Prici...\n",
            "3     ORGANIZATIONAL SUMMARY:   As part of the nati...\n",
            "4       Aviall is the world's largest provider of n...\n",
            "Name: Job Description, dtype: object\n"
          ]
        }
      ],
      "source": [
        "print(data['Job Description'].head())"
      ]
    },
    {
      "cell_type": "code",
      "execution_count": null,
      "metadata": {
        "colab": {
          "base_uri": "https://localhost:8080/"
        },
        "id": "RjYCjbl8GCRm",
        "outputId": "26da9fe7-1458-4c24-d11f-35cb17d01b8c"
      },
      "outputs": [
        {
          "name": "stdout",
          "output_type": "stream",
          "text": [
            "['Information Technology' 'Unknown' 'Finance' 'Finance'\n",
            " 'Subsidiary or Business Segment' 'Finance' 'Unknown'\n",
            " 'Information Technology' 'Business Services' 'Finance'\n",
            " 'Accounting & Legal' 'Health Care' 'Media' nan\n",
            " 'Subsidiary or Business Segment' 'Accounting & Legal'\n",
            " 'Accounting & Legal' 'Information Technology' 'Non-Profit'\n",
            " 'Accounting & Legal' 'Information Technology' 'Information Technology'\n",
            " 'Business Services' nan 'Unknown' 'Information Technology'\n",
            " 'Business Services' 'Business Services' 'Unknown' 'Business Services'\n",
            " 'Information Technology' 'Unknown' 'Finance' 'Accounting & Legal'\n",
            " 'Finance' 'Accounting & Legal' 'Accounting & Legal' 'Accounting & Legal'\n",
            " 'Information Technology' 'Arts, Entertainment & Recreation'\n",
            " 'Information Technology' '$500 million to $1 billion (USD) per year'\n",
            " 'Media' 'Finance' 'Media' 'Health Care' 'Business Services'\n",
            " 'Information Technology' 'Business Services' 'Finance' 'Media'\n",
            " 'Information Technology' 'Subsidiary or Business Segment'\n",
            " 'Business Services' 'Finance' 'Subsidiary or Business Segment'\n",
            " 'Accounting & Legal' 'Accounting & Legal' 'Business Services'\n",
            " 'Arts, Entertainment & Recreation' 'Manufacturing' 'Accounting & Legal'\n",
            " 'Unknown' 'Finance' 'Accounting & Legal' 'Finance' 'Accounting & Legal'\n",
            " 'Accounting & Legal' 'Accounting & Legal' 'Information Technology'\n",
            " 'Arts, Entertainment & Recreation' 'Information Technology'\n",
            " '$500 million to $1 billion (USD) per year' 'Media' 'Finance' 'Media'\n",
            " 'Health Care' 'Business Services' 'Information Technology'\n",
            " 'Business Services' 'Finance' 'Media' 'Information Technology'\n",
            " 'Subsidiary or Business Segment' 'Business Services' 'Finance'\n",
            " 'Subsidiary or Business Segment' 'Accounting & Legal'\n",
            " 'Accounting & Legal' 'Business Services'\n",
            " 'Arts, Entertainment & Recreation' 'Manufacturing' nan\n",
            " 'Information Technology' 'Travel & Tourism' 'Accounting & Legal'\n",
            " 'Manufacturing' 'Health Care' 'Business Services' 'Business Services'\n",
            " 'Information Technology' 'Insurance' 'Aerospace & Defense'\n",
            " 'Manufacturing' 'Subsidiary or Business Segment' 'Unknown' 'Media'\n",
            " 'Unknown / Non-Applicable per year' 'Finance' 'Finance' 'Manufacturing'\n",
            " 'Manufacturing' 'Media' 'Health Care' 'Business Services'\n",
            " 'Business Services' 'Media' 'Information Technology' 'Health Care'\n",
            " 'Business Services' 'Business Services' 'Media' 'Business Services'\n",
            " 'Aerospace & Defense' 'Retail' 'Information Technology'\n",
            " 'Information Technology' 'Health Care' 'Business Services' 'Real Estate'\n",
            " 'Media' 'Insurance' 'Health Care' 'Unknown' 'Insurance' 'Insurance'\n",
            " 'Finance' 'Transportation & Logistics' 'Insurance'\n",
            " 'Subsidiary or Business Segment' 'Retail' 'Manufacturing'\n",
            " 'Information Technology' 'Business Services' 'Business Services' 'Retail'\n",
            " 'Manufacturing' 'Health Care' 'Company - Public' 'Mining & Metals'\n",
            " 'Construction, Repair & Maintenance' 'Manufacturing' 'Health Care'\n",
            " 'Manufacturing' 'Accounting & Legal' 'Manufacturing' 'Accounting & Legal']\n"
          ]
        }
      ],
      "source": [
        "print(data['industry'].values)"
      ]
    },
    {
      "cell_type": "markdown",
      "metadata": {
        "id": "rttovi6vUVX0"
      },
      "source": [
        "### Step 3: Extract Skills Using Named Entity Recognition (NER)\n",
        "#### 📌 Goal: Use spaCy’s built-in NER to detect and extract skills from job descriptions.\n",
        "\n",
        "1. Load spaCy’s English model.\n",
        "2. Use NER to identify important keywords.\n",
        "3. Extract words related to technical skills, tools, and expertise."
      ]
    },
    {
      "cell_type": "code",
      "execution_count": null,
      "metadata": {
        "id": "d31wh2yDUT9Y"
      },
      "outputs": [],
      "source": [
        "# your code here\n",
        "nlp=spacy.load('en_core_web_sm')\n",
        "def exteract_skills(text):\n",
        "  doc=nlp(text)\n",
        "  skills=[ent.text for ent in doc.ents if ent.label_=='ORG' or ent.label_=='PRODUCT' or ent.label_=='TECHNOLOGY']\n",
        "  return skills\n",
        "data['skills_extraxted']=data['Job Description'].apply(exteract_skills)"
      ]
    },
    {
      "cell_type": "markdown",
      "metadata": {
        "id": "TizfP0pyUanq"
      },
      "source": [
        "### Step 4: Identify the Most In-Demand Skills\n",
        "#### 📌 Goal: Count the most frequently mentioned skills in job descriptions.\n",
        "\n",
        "1. Create a word frequency distribution of extracted skills.\n",
        "2. Identify the top 10 most required skills."
      ]
    },
    {
      "cell_type": "code",
      "execution_count": null,
      "metadata": {
        "colab": {
          "base_uri": "https://localhost:8080/"
        },
        "id": "9SLRxwryUm4g",
        "outputId": "ca167c83-d643-41e1-bec4-5fb0b6aeae5f"
      },
      "outputs": [
        {
          "name": "stdout",
          "output_type": "stream",
          "text": [
            "[('Deloitte', 69), ('Excel', 64), ('CoreLogic', 49), ('GPA', 42), ('Microsoft Office', 36), ('PowerPoint', 35), ('SQL', 32), ('TX', 30), ('SAP', 25), ('IBM', 24)]\n"
          ]
        }
      ],
      "source": [
        "# your code here\n",
        "\n",
        "all_skills =[word for sub in data['skills_extraxted'] for word in sub ]\n",
        "freq_dist_all = FreqDist(all_skills)\n",
        "print(freq_dist_all.most_common(10))"
      ]
    },
    {
      "cell_type": "markdown",
      "metadata": {
        "id": "3v8W0pneUoku"
      },
      "source": [
        "### Step 5: Categorize Skills by Industry\n",
        "#### 📌 Goal: Compare the most in-demand skills across different industries.\n",
        "\n",
        "1. Group job descriptions by industry.\n",
        "2. Extract and analyze skills for each industry.\n",
        "3. Compare IT vs. Marketing vs. Healthcare, etc.."
      ]
    },
    {
      "cell_type": "code",
      "execution_count": null,
      "metadata": {
        "colab": {
          "base_uri": "https://localhost:8080/"
        },
        "id": "HzZmaKoyUsSX",
        "outputId": "802ec0a1-e34e-4ca0-9cfd-08a06e95c7bf"
      },
      "outputs": [
        {
          "name": "stdout",
          "output_type": "stream",
          "text": [
            "\n",
            "📌 Industry: $500 million to $1 billion (USD) per year\n",
            "  - MIS: 8\n",
            "  - Decision Sciences: 6\n",
            "  - the Pricing & Strategy and Profitability Teams: 2\n",
            "  - Pricing & Strategy and Profitability: 2\n",
            "  - Information Technology: 2\n",
            "  - Data Visualization: 2\n",
            "  - SharePoint: 2\n",
            "  - Identify: 2\n",
            "  - Bachelor: 2\n",
            "  - SQL: 2\n",
            "\n",
            "📌 Industry: Accounting & Legal\n",
            "  - Deloitte: 67\n",
            "  - Deloitte LLP: 16\n",
            "  - GPA: 13\n",
            "  - RAS: 8\n",
            "  - Grant Thornton: 8\n",
            "  - Deloitte University: 7\n",
            "  - Deloitte Consulting LLP: 7\n",
            "  - Grant Thornton International Ltd: 6\n",
            "  - Partners: 6\n",
            "  - The Leadership Center: 4\n",
            "\n",
            "📌 Industry: Aerospace & Defense\n",
            "  - Skills & Experience :: 2\n",
            "  - US Citizens: 2\n",
            "  - Federal Government: 2\n",
            "  - SQL: 2\n",
            "  - Data Science: 2\n",
            "  - Northrop: 2\n",
            "  - Grumman: 2\n",
            "  - University Programs: Engineering Intern Raytheon Intelligence, Information and Services: 1\n",
            "  - Contribute: 1\n",
            "  - Data Scientist: 1\n",
            "\n",
            "📌 Industry: Arts, Entertainment & Recreation\n",
            "  - JCPenney: 14\n",
            "  - Home Office: 6\n",
            "  - TX: 4\n",
            "  - Excel: 4\n",
            "  - PowerPoint: 4\n",
            "  - Starbucks: 4\n",
            "  - General Description  Financial Planning & Analysis InternJ.C. Penney Company: 2\n",
            "  - Finance: 2\n",
            "  - the JCPenney Financial Planning & Analysis: 2\n",
            "  - Core Competencies & Accomplishments: • Current: 2\n",
            "\n",
            "📌 Industry: Business Services\n",
            "  - IBM: 23\n",
            "  - ADP: 12\n",
            "  - CEB: 9\n",
            "  - ASM: 8\n",
            "  - Alliance Data: 8\n",
            "  - Excel: 7\n",
            "  - PowerPoint: 6\n",
            "  - Advantage Sales & Marketing: 6\n",
            "  - Microsoft: 6\n",
            "  - Intern: 5\n",
            "\n",
            "📌 Industry: Company - Public\n",
            "  - GM Financial: 3\n",
            "  - GM FINANCIAL'S: 1\n",
            "  - General Motors: 1\n",
            "  - Summer Internship Program: 1\n",
            "  - Credit Review: 1\n",
            "  - Credit Review Must: 1\n",
            "  - Bachelor: 1\n",
            "  - Mathematics, Statistics, Economics: 1\n",
            "  - GPA.Junior: 1\n",
            "  - GMF: 1\n",
            "\n",
            "📌 Industry: Construction, Repair & Maintenance\n",
            "  - Company: 1\n",
            "  - LafargeHolcim: 1\n",
            "  - Building Better Cities: 1\n",
            "  - the Wildlife Habitat Council: 1\n",
            "  - Cement: 1\n",
            "  - ELECTIRCAL ENGINEERING PROJECTSParticipate: 1\n",
            "  - SAP: 1\n",
            "  - Process Area Teams: 1\n",
            "  - SKILLS & ABILITIESRequired Education: 1\n",
            "  - Required Field of Study: Electrical EngineeringAdditional Requirements: 1\n",
            "\n",
            "📌 Industry: Finance\n",
            "  - IRE: 11\n",
            "  - Excel: 8\n",
            "  - the Federal Reserve Bank: 7\n",
            "  - Invesco: 6\n",
            "  - SQL: 5\n",
            "  - Microsoft Office: 5\n",
            "  - MIS: 4\n",
            "  - SAS: 4\n",
            "  - PowerPoint: 4\n",
            "  - Fed: 4\n",
            "\n",
            "📌 Industry: Health Care\n",
            "  - Information Technology: 8\n",
            "  - Computer Engineering: 7\n",
            "  - Computer Science, Engineering Technology: 6\n",
            "  - QBO: 6\n",
            "  - MIS, Management: 5\n",
            "  - Phoenix House: 5\n",
            "  - Excel: 4\n",
            "  - State: 2\n",
            "  - Federal and Commerical: 2\n",
            "  - Application: 2\n",
            "\n",
            "📌 Industry: Information Technology\n",
            "  - SAP: 21\n",
            "  - Excel: 8\n",
            "  - TX: 6\n",
            "  - Atos offers Consulting & Systems Integration: 6\n",
            "  - Managed Services & BPO: 6\n",
            "  - Cloud, Big Data & Cyber: 6\n",
            "  - Defense, Financial Services: 6\n",
            "  - Health, Manufacturing: 6\n",
            "  - Media, Utilities: 6\n",
            "  - Retail, Telecommunications: 6\n",
            "\n",
            "📌 Industry: Insurance\n",
            "  - HCSC: 20\n",
            "  - Blue Cross: 6\n",
            "  - Blue Shield: 6\n",
            "  - GPA: 6\n",
            "  - SQL: 6\n",
            "  - PowerPoint: 5\n",
            "  - Careers: 4\n",
            "  - Data Analytics: 4\n",
            "  - SAS: 4\n",
            "  - Information Technology: 2\n",
            "\n",
            "📌 Industry: Manufacturing\n",
            "  - Kubota: 7\n",
            "  - CRM: 6\n",
            "  - Learn: 5\n",
            "  - SQL: 5\n",
            "  - Excel: 5\n",
            "  - Federal, State: 5\n",
            "  - GPA: 4\n",
            "  - the Turf Department: 4\n",
            "  - Power Point: 4\n",
            "  - Access: 3\n",
            "\n",
            "📌 Industry: Media\n",
            "  - CoreLogic: 49\n",
            "  - The CoreLogic Summer Internship Program: 11\n",
            "  - Microsoft Office: 11\n",
            "  - Excel: 11\n",
            "  - Access,: 11\n",
            "  - Internship Program: 6\n",
            "  - KnowledgeCurrently: 6\n",
            "  - PowerPoint: 5\n",
            "  - Utilizes: 4\n",
            "  - Participates in Internship Program: 4\n",
            "\n",
            "📌 Industry: Mining & Metals\n",
            "  - Company: 1\n",
            "  - LafargeHolcim: 1\n",
            "  - Building Better Cities: 1\n",
            "  - the Wildlife Habitat Council: 1\n",
            "  - Cement: 1\n",
            "  - ELECTIRCAL ENGINEERING PROJECTSParticipate: 1\n",
            "  - SAP: 1\n",
            "  - Process Area Teams: 1\n",
            "  - SKILLS & ABILITIESRequired Education: 1\n",
            "  - Required Field of Study: Electrical EngineeringAdditional Requirements: 1\n",
            "\n",
            "📌 Industry: Non-Profit\n",
            "  - the American Heart Association: 3\n",
            "  - The American Heart Association: 2\n",
            "  - AHA: 2\n",
            "  - Intern, Research & Development Tracking: 1\n",
            "  - American Stroke Association: 1\n",
            "  - Research and Development: 1\n",
            "  - National Center: 1\n",
            "  - TX: 1\n",
            "  - the Quality and Health IT Research and Development: 1\n",
            "  - BA/BS: 1\n",
            "\n",
            "📌 Industry: Real Estate\n",
            "  - Intern: 4\n",
            "  - OVERVIEW: 1\n",
            "  - JLL's Management, Mortgage Bankers: 1\n",
            "  - TASKS: 1\n",
            "  - Accounting, Finance: 1\n",
            "  - Microsoft: 1\n",
            "  - Excel: 1\n",
            "\n",
            "📌 Industry: Retail\n",
            "  - Summit Truck Group: 7\n",
            "  - JCPenney: 4\n",
            "  - Digital Marketing Coordinator: 3\n",
            "  - Audit: 2\n",
            "  - Intern: 2\n",
            "  - TX: 2\n",
            "  - JCPenney Company: 1\n",
            "  - Internal Audit: 1\n",
            "  - Assists Audit Management: 1\n",
            "  - Finance: 1\n",
            "\n",
            "📌 Industry: Subsidiary or Business Segment\n",
            "  - Corporate Headquarters: 7\n",
            "  - TX: 7\n",
            "  - GPA: 7\n",
            "  - Some College Coursework Completed  : 7\n",
            "  - Bachelor: 7\n",
            "  - Microsoft Office: 6\n",
            "  - The Accounting/Finance Intern: 2\n",
            "  - Applied Math, Economics, Finance: 2\n",
            "  - Mathematics, Risk Management, Statistics: 2\n",
            "  - Data/Analytics: 2\n",
            "\n",
            "📌 Industry: Transportation & Logistics\n",
            "  - the State of Texas: 2\n",
            "  - NTTA: 2\n",
            "  - GPA: 2\n",
            "  - Information Technology: 1\n",
            "  - the IT Service Desk: 1\n",
            "  - Skills: 1\n",
            "  - Microsoft Office Applications: 1\n",
            "  - Microsoft: 1\n",
            "  - Excel: 1\n",
            "  - the United StatesProjects:Hardware/Software UpgradeInventory ManagementWindows: 1\n",
            "\n",
            "📌 Industry: Travel & Tourism\n",
            "  - PIP: 2\n",
            "  - the Franchise Department: 1\n",
            "  - the Design & Construction Department: 1\n",
            "  - FF&E: 1\n",
            "  - Franchisees: 1\n",
            "  - the D&C Design Guidelines and Brand Standards: 1\n",
            "  - the Refresh PIP: 1\n",
            "  - the Design & Construction Product Library: 1\n",
            "  - Excel: 1\n",
            "  - Microsoft Projects: 1\n",
            "\n",
            "📌 Industry: Unknown\n",
            "  - Atos offers Consulting & Systems Integration: 4\n",
            "  - Managed Services & BPO: 4\n",
            "  - Cloud, Big Data & Cyber: 4\n",
            "  - Defense, Financial Services: 4\n",
            "  - Health, Manufacturing: 4\n",
            "  - Media, Utilities: 4\n",
            "  - Retail, Telecommunications: 4\n",
            "  - Transportation: 4\n",
            "  - the Worldwide Information Technology Partner: 4\n",
            "  - the Olympic & Paralympic Games: 4\n",
            "\n",
            "📌 Industry: Unknown / Non-Applicable per year\n",
            "  - Create UI: 2\n",
            "  - SilverXis: 1\n",
            "  - IRVING: 1\n",
            "  - TX 75063   : 1\n",
            "  - Business Requirements Document: 1\n",
            "  - Maintain Policies & Procedures: 1\n",
            "  - Data Engineers: 1\n",
            "  - Data Scientists: 1\n",
            "  - Data: 1\n",
            "  - SQL: 1\n"
          ]
        }
      ],
      "source": [
        "# your code here\n",
        "# data.groupby('industry')['Job Description'].apply(lambda x: \" \".join(x))\n",
        "\n",
        "def top_skills_by_industry(skills):\n",
        "  all_skills=[skill for sub in skills for skill in sub]\n",
        "  return FreqDist(all_skills).most_common(10)\n",
        "industry_skills=data.groupby('industry')['skills_extraxted'].apply(top_skills_by_industry)\n",
        "for industry, skills in industry_skills.items():\n",
        "    print(f\"\\n📌 Industry: {industry}\")\n",
        "    for skill, freq in skills:\n",
        "        print(f\"  - {skill}: {freq}\")"
      ]
    },
    {
      "cell_type": "code",
      "execution_count": null,
      "metadata": {
        "colab": {
          "base_uri": "https://localhost:8080/"
        },
        "collapsed": true,
        "id": "ALoin4SpNmx1",
        "outputId": "fe27cd44-6291-4af9-f7da-b2accc2e93ec"
      },
      "outputs": [
        {
          "name": "stdout",
          "output_type": "stream",
          "text": [
            "                                     Industry  \\\n",
            "0   $500 million to $1 billion (USD) per year   \n",
            "0   $500 million to $1 billion (USD) per year   \n",
            "0   $500 million to $1 billion (USD) per year   \n",
            "0   $500 million to $1 billion (USD) per year   \n",
            "0   $500 million to $1 billion (USD) per year   \n",
            "..                                        ...   \n",
            "21          Unknown / Non-Applicable per year   \n",
            "21          Unknown / Non-Applicable per year   \n",
            "21          Unknown / Non-Applicable per year   \n",
            "21          Unknown / Non-Applicable per year   \n",
            "21          Unknown / Non-Applicable per year   \n",
            "\n",
            "                                             Skill  Frequency  \n",
            "0                                              MIS          8  \n",
            "0                                Decision Sciences          6  \n",
            "0   the Pricing & Strategy and Profitability Teams          2  \n",
            "0             Pricing & Strategy and Profitability          2  \n",
            "0                           Information Technology          2  \n",
            "..                                             ...        ...  \n",
            "21                  Maintain Policies & Procedures          1  \n",
            "21                                  Data Engineers          1  \n",
            "21                                 Data Scientists          1  \n",
            "21                                            Data          1  \n",
            "21                                             SQL          1  \n",
            "\n",
            "[217 rows x 3 columns]\n"
          ]
        }
      ],
      "source": [
        "df_skill=industry_skills.reset_index()\n",
        "df_skill.columns=['Industry', 'Top_Skills']\n",
        "df_expended=s=df_skill.explode(\"Top_Skills\")\n",
        "df_expended[['Skill','Frequency']]=df_expended[\"Top_Skills\"].apply(pd.Series)\n",
        "df_expended.drop('Top_Skills',  axis=1 ,inplace=True)\n",
        "print(df_expended)"
      ]
    },
    {
      "cell_type": "code",
      "execution_count": null,
      "metadata": {
        "colab": {
          "base_uri": "https://localhost:8080/"
        },
        "id": "3ao2HZUXGzgC",
        "outputId": "8dc9a05c-55d5-487e-b7cb-3d6c884e16de"
      },
      "outputs": [
        {
          "name": "stdout",
          "output_type": "stream",
          "text": [
            "                                    Industry  \\\n",
            "0  $500 million to $1 billion (USD) per year   \n",
            "0  $500 million to $1 billion (USD) per year   \n",
            "0  $500 million to $1 billion (USD) per year   \n",
            "0  $500 million to $1 billion (USD) per year   \n",
            "0  $500 million to $1 billion (USD) per year   \n",
            "\n",
            "                                            Skill  Frequency  \n",
            "0                                             MIS          8  \n",
            "0                               Decision Sciences          6  \n",
            "0  the Pricing & Strategy and Profitability Teams          2  \n",
            "0            Pricing & Strategy and Profitability          2  \n",
            "0                          Information Technology          2  \n"
          ]
        }
      ],
      "source": [
        "print(df_expended.head())\n",
        "print(df_expended.info())"
      ]
    },
    {
      "cell_type": "markdown",
      "metadata": {
        "id": "6umNf_SuLhxu"
      },
      "source": [
        "# Top 5 Skills in 10 Leading Industries"
      ]
    },
    {
      "cell_type": "code",
      "execution_count": null,
      "metadata": {
        "id": "TbEEYxCrHzCa"
      },
      "outputs": [],
      "source": [
        "top_industries=df_expended.groupby(\"Industry\")['Frequency'].sum().nlargest(10).index\n",
        "print(top_industries)"
      ]
    },
    {
      "cell_type": "code",
      "execution_count": null,
      "metadata": {
        "id": "I1imOzHJIWpX"
      },
      "outputs": [],
      "source": [
        "df_top=df_expended[df_expended['Industry'].isin(top_industries)]"
      ]
    },
    {
      "cell_type": "code",
      "execution_count": null,
      "metadata": {
        "id": "ZBN70TZbJnQs"
      },
      "outputs": [],
      "source": [
        "top_skills_per_industry=df_top.groupby('Industry').apply(lambda x:x.nlargest(5,\"Frequency\"))\n",
        "print(top_skills_per_industry)"
      ]
    },
    {
      "cell_type": "code",
      "execution_count": null,
      "metadata": {
        "colab": {
          "base_uri": "https://localhost:8080/"
        },
        "id": "3sTf1VltRTip",
        "outputId": "2324a185-3daa-4164-e580-a0cfdd831fd9"
      },
      "outputs": [
        {
          "name": "stdout",
          "output_type": "stream",
          "text": [
            "+----+----------------------------------+----------------------------------------------+-----------+\n",
            "|    |             Industry             |                    Skill                     | Frequency |\n",
            "+----+----------------------------------+----------------------------------------------+-----------+\n",
            "| 0  |        Accounting & Legal        |                   Deloitte                   |    67     |\n",
            "| 1  |        Accounting & Legal        |                 Deloitte LLP                 |    16     |\n",
            "| 2  |        Accounting & Legal        |                     GPA                      |    13     |\n",
            "| 3  |        Accounting & Legal        |                     RAS                      |     8     |\n",
            "| 4  |        Accounting & Legal        |                Grant Thornton                |     8     |\n",
            "| 5  | Arts, Entertainment & Recreation |                   JCPenney                   |    14     |\n",
            "| 6  | Arts, Entertainment & Recreation |                 Home Office                  |     6     |\n",
            "| 7  | Arts, Entertainment & Recreation |                      TX                      |     4     |\n",
            "| 8  | Arts, Entertainment & Recreation |                    Excel                     |     4     |\n",
            "| 9  | Arts, Entertainment & Recreation |                  PowerPoint                  |     4     |\n",
            "| 10 |        Business Services         |                     IBM                      |    23     |\n",
            "| 11 |        Business Services         |                     ADP                      |    12     |\n",
            "| 12 |        Business Services         |                     CEB                      |     9     |\n",
            "| 13 |        Business Services         |                     ASM                      |     8     |\n",
            "| 14 |        Business Services         |                Alliance Data                 |     8     |\n",
            "| 15 |             Finance              |                     IRE                      |    11     |\n",
            "| 16 |             Finance              |                    Excel                     |     8     |\n",
            "| 17 |             Finance              |           the Federal Reserve Bank           |     7     |\n",
            "| 18 |             Finance              |                   Invesco                    |     6     |\n",
            "| 19 |             Finance              |                     SQL                      |     5     |\n",
            "| 20 |           Health Care            |            Information Technology            |     8     |\n",
            "| 21 |           Health Care            |             Computer Engineering             |     7     |\n",
            "| 22 |           Health Care            |   Computer Science, Engineering Technology   |     6     |\n",
            "| 23 |           Health Care            |                     QBO                      |     6     |\n",
            "| 24 |           Health Care            |               MIS, Management                |     5     |\n",
            "| 25 |      Information Technology      |                     SAP                      |    21     |\n",
            "| 26 |      Information Technology      |                    Excel                     |     8     |\n",
            "| 27 |      Information Technology      |                      TX                      |     6     |\n",
            "| 28 |      Information Technology      | Atos offers Consulting & Systems Integration |     6     |\n",
            "| 29 |      Information Technology      |            Managed Services & BPO            |     6     |\n",
            "| 30 |            Insurance             |                     HCSC                     |    20     |\n",
            "| 31 |            Insurance             |                  Blue Cross                  |     6     |\n",
            "| 32 |            Insurance             |                 Blue Shield                  |     6     |\n",
            "| 33 |            Insurance             |                     GPA                      |     6     |\n",
            "| 34 |            Insurance             |                     SQL                      |     6     |\n",
            "| 35 |          Manufacturing           |                    Kubota                    |     7     |\n",
            "| 36 |          Manufacturing           |                     CRM                      |     6     |\n",
            "| 37 |          Manufacturing           |                    Learn                     |     5     |\n",
            "| 38 |          Manufacturing           |                     SQL                      |     5     |\n",
            "| 39 |          Manufacturing           |                    Excel                     |     5     |\n",
            "| 40 |              Media               |                  CoreLogic                   |    49     |\n",
            "| 41 |              Media               |   The CoreLogic Summer Internship Program    |    11     |\n",
            "| 42 |              Media               |               Microsoft Office               |    11     |\n",
            "| 43 |              Media               |                    Excel                     |    11     |\n",
            "| 44 |              Media               |                   Access,                    |    11     |\n",
            "| 45 |  Subsidiary or Business Segment  |            Corporate Headquarters            |     7     |\n",
            "| 46 |  Subsidiary or Business Segment  |                      TX                      |     7     |\n",
            "| 47 |  Subsidiary or Business Segment  |                     GPA                      |     7     |\n",
            "| 48 |  Subsidiary or Business Segment  |      Some College Coursework Completed       |     7     |\n",
            "| 49 |  Subsidiary or Business Segment  |                   Bachelor                   |     7     |\n",
            "+----+----------------------------------+----------------------------------------------+-----------+\n"
          ]
        }
      ],
      "source": [
        "from tabulate import tabulate\n",
        "\n",
        "print(tabulate(top_skills_per_industry[['Industry', 'Skill', 'Frequency']], headers='keys', tablefmt='pretty'))\n",
        "\n"
      ]
    }
  ],
  "metadata": {
    "colab": {
      "provenance": []
    },
    "kernelspec": {
      "display_name": "Python 3",
      "name": "python3"
    },
    "language_info": {
      "name": "python"
    }
  },
  "nbformat": 4,
  "nbformat_minor": 0
}